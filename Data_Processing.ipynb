{
 "cells": [
  {
   "cell_type": "code",
   "execution_count": 1,
   "metadata": {},
   "outputs": [],
   "source": [
    "import json\n",
    "from itertools import chain\n",
    "\n",
    "import pandas as pd\n",
    "import numpy as np\n",
    "import warnings\n",
    "warnings.filterwarnings('ignore')\n",
    "from tqdm.notebook import tqdm_notebook as tqdm\n",
    "\n",
    "\n",
    "import findspark\n",
    "findspark.init()\n",
    "\n",
    "import pyspark\n",
    "from pyspark import SparkContext\n",
    "from pyspark.sql import SparkSession\n",
    "spark = SparkSession.builder.getOrCreate()\n",
    "\n",
    "from itertools import product"
   ]
  },
  {
   "cell_type": "code",
   "execution_count": 9,
   "metadata": {},
   "outputs": [],
   "source": [
    "pd.set_option('display.max_colwidth', -1)"
   ]
  },
  {
   "cell_type": "code",
   "execution_count": 2,
   "metadata": {},
   "outputs": [
    {
     "name": "stdout",
     "output_type": "stream",
     "text": [
      "Index(['phase', 'table_id', 'question', 'sql', 'answer', 'sql_query'], dtype='object')\n"
     ]
    },
    {
     "data": {
      "text/html": [
       "<div>\n",
       "<style scoped>\n",
       "    .dataframe tbody tr th:only-of-type {\n",
       "        vertical-align: middle;\n",
       "    }\n",
       "\n",
       "    .dataframe tbody tr th {\n",
       "        vertical-align: top;\n",
       "    }\n",
       "\n",
       "    .dataframe thead th {\n",
       "        text-align: right;\n",
       "    }\n",
       "</style>\n",
       "<table border=\"1\" class=\"dataframe\">\n",
       "  <thead>\n",
       "    <tr style=\"text-align: right;\">\n",
       "      <th></th>\n",
       "      <th>phase</th>\n",
       "      <th>table_id</th>\n",
       "      <th>question</th>\n",
       "      <th>sql</th>\n",
       "      <th>answer</th>\n",
       "      <th>sql_query</th>\n",
       "    </tr>\n",
       "  </thead>\n",
       "  <tbody>\n",
       "    <tr>\n",
       "      <th>0</th>\n",
       "      <td>1</td>\n",
       "      <td>1-10015132-16</td>\n",
       "      <td>What is terrence ross' nationality</td>\n",
       "      <td>{'sel': 2, 'conds': [[0, 0, 'Terrence Ross']],...</td>\n",
       "      <td>[united states]</td>\n",
       "      <td>{'agg_index': 0, 'cond_ops': ['=', '&gt;', '&lt;', '...</td>\n",
       "    </tr>\n",
       "    <tr>\n",
       "      <th>1</th>\n",
       "      <td>1</td>\n",
       "      <td>1-10015132-16</td>\n",
       "      <td>What clu was in toronto 1995-96</td>\n",
       "      <td>{'sel': 5, 'conds': [[4, 0, '1995-96']], 'agg'...</td>\n",
       "      <td>[arkansas]</td>\n",
       "      <td>{'agg_index': 0, 'cond_ops': ['=', '&gt;', '&lt;', '...</td>\n",
       "    </tr>\n",
       "    <tr>\n",
       "      <th>2</th>\n",
       "      <td>1</td>\n",
       "      <td>1-10015132-16</td>\n",
       "      <td>which club was in toronto 2003-06</td>\n",
       "      <td>{'sel': 5, 'conds': [[4, 0, '2003-06']], 'agg'...</td>\n",
       "      <td>[michigan]</td>\n",
       "      <td>{'agg_index': 0, 'cond_ops': ['=', '&gt;', '&lt;', '...</td>\n",
       "    </tr>\n",
       "    <tr>\n",
       "      <th>3</th>\n",
       "      <td>1</td>\n",
       "      <td>1-10015132-16</td>\n",
       "      <td>how many schools or teams had jalen rose</td>\n",
       "      <td>{'sel': 5, 'conds': [[0, 0, 'Jalen Rose']], 'a...</td>\n",
       "      <td>[1]</td>\n",
       "      <td>{'agg_index': 3, 'cond_ops': ['=', '&gt;', '&lt;', '...</td>\n",
       "    </tr>\n",
       "    <tr>\n",
       "      <th>4</th>\n",
       "      <td>1</td>\n",
       "      <td>1-10083598-1</td>\n",
       "      <td>Where was Assen held?</td>\n",
       "      <td>{'sel': 2, 'conds': [[3, 0, 'Assen']], 'agg': 0}</td>\n",
       "      <td>[netherlands]</td>\n",
       "      <td>{'agg_index': 0, 'cond_ops': ['=', '&gt;', '&lt;', '...</td>\n",
       "    </tr>\n",
       "  </tbody>\n",
       "</table>\n",
       "</div>"
      ],
      "text/plain": [
       "   phase       table_id                                  question  \\\n",
       "0      1  1-10015132-16        What is terrence ross' nationality   \n",
       "1      1  1-10015132-16           What clu was in toronto 1995-96   \n",
       "2      1  1-10015132-16         which club was in toronto 2003-06   \n",
       "3      1  1-10015132-16  how many schools or teams had jalen rose   \n",
       "4      1   1-10083598-1                     Where was Assen held?   \n",
       "\n",
       "                                                 sql           answer  \\\n",
       "0  {'sel': 2, 'conds': [[0, 0, 'Terrence Ross']],...  [united states]   \n",
       "1  {'sel': 5, 'conds': [[4, 0, '1995-96']], 'agg'...       [arkansas]   \n",
       "2  {'sel': 5, 'conds': [[4, 0, '2003-06']], 'agg'...       [michigan]   \n",
       "3  {'sel': 5, 'conds': [[0, 0, 'Jalen Rose']], 'a...              [1]   \n",
       "4   {'sel': 2, 'conds': [[3, 0, 'Assen']], 'agg': 0}    [netherlands]   \n",
       "\n",
       "                                           sql_query  \n",
       "0  {'agg_index': 0, 'cond_ops': ['=', '>', '<', '...  \n",
       "1  {'agg_index': 0, 'cond_ops': ['=', '>', '<', '...  \n",
       "2  {'agg_index': 0, 'cond_ops': ['=', '>', '<', '...  \n",
       "3  {'agg_index': 3, 'cond_ops': ['=', '>', '<', '...  \n",
       "4  {'agg_index': 0, 'cond_ops': ['=', '>', '<', '...  "
      ]
     },
     "execution_count": 2,
     "metadata": {},
     "output_type": "execute_result"
    }
   ],
   "source": [
    "test_f = pd.read_json(\"./data/test_files.json\")\n",
    "train_f = pd.read_json(\"./data/train_files.json\")\n",
    "dev_f = pd.read_json(\"./data/dev_files.json\")\n",
    "print(test_f.columns)\n",
    "test_f.head()"
   ]
  },
  {
   "cell_type": "code",
   "execution_count": 3,
   "metadata": {},
   "outputs": [
    {
     "data": {
      "text/plain": [
       "caption                                                          R\n",
       "header           [Player, No., Nationality, Position, Years in ...\n",
       "table_id                                             1-10015132-16\n",
       "name                                             table_10015132_16\n",
       "page_id                                                        NaN\n",
       "page_title                         Toronto Raptors all-time roster\n",
       "rows             [[Aleksandar Radojević, 25, Serbia, Center, 19...\n",
       "section_title                                                    R\n",
       "types                         [text, text, text, text, text, text]\n",
       "Name: 0, dtype: object"
      ]
     },
     "execution_count": 3,
     "metadata": {},
     "output_type": "execute_result"
    }
   ],
   "source": [
    "test_tb = spark.read.json(\"./data/test_tables.jsonl\").toPandas().rename(columns={'id':'table_id'})\n",
    "train_tb = spark.read.json(\"./data/train_tables.jsonl\").toPandas().rename(columns={'id':'table_id'})\n",
    "dev_tb = spark.read.json(\"./data/dev_tables.jsonl\").toPandas().rename(columns={'id':'table_id'})\n",
    "test_tb.loc[0]"
   ]
  },
  {
   "cell_type": "code",
   "execution_count": 4,
   "metadata": {},
   "outputs": [],
   "source": [
    "def header_trans(df):\n",
    "    header_list = []\n",
    "    for i, row in df.iterrows():\n",
    "        header_new = list(zip(row['header'], row['types'],row['rows'][0]))\n",
    "        header_list.append(header_new) \n",
    "    df['header_new']=header_list\n",
    "    df = df.drop(columns=['header'])\n",
    "    return df"
   ]
  },
  {
   "cell_type": "code",
   "execution_count": 5,
   "metadata": {},
   "outputs": [],
   "source": [
    "test_tb= header_trans(test_tb)\n",
    "train_tb= header_trans(train_tb)\n",
    "dev_tb= header_trans(dev_tb)"
   ]
  },
  {
   "cell_type": "code",
   "execution_count": 6,
   "metadata": {},
   "outputs": [
    {
     "data": {
      "text/plain": [
       "caption                                                          R\n",
       "table_id                                             1-10015132-16\n",
       "name                                             table_10015132_16\n",
       "page_id                                                        NaN\n",
       "page_title                         Toronto Raptors all-time roster\n",
       "rows             [[Aleksandar Radojević, 25, Serbia, Center, 19...\n",
       "section_title                                                    R\n",
       "types                         [text, text, text, text, text, text]\n",
       "header_new       [(Player, text, Aleksandar Radojević), (No., t...\n",
       "Name: 0, dtype: object"
      ]
     },
     "execution_count": 6,
     "metadata": {},
     "output_type": "execute_result"
    }
   ],
   "source": [
    "test_tb.loc[0]"
   ]
  },
  {
   "cell_type": "code",
   "execution_count": 7,
   "metadata": {},
   "outputs": [],
   "source": [
    "test = pd.merge(test_f,test_tb,on=['table_id']).rename(columns={'question':'context','page_title':'title','header_new':'header'})\n",
    "train = pd.merge(train_f,train_tb,on=['table_id']).rename(columns={'question':'context','page_title':'title','header_new':'header'})\n",
    "dev = pd.merge(dev_f,dev_tb,on=['table_id']).rename(columns={'question':'context','page_title':'title','header_new':'header'})"
   ]
  },
  {
   "cell_type": "code",
   "execution_count": 10,
   "metadata": {},
   "outputs": [
    {
     "data": {
      "text/plain": [
       "phase            1                                                                                                                                                                                                                                                                                                                                                                                                                                                                                                                                                                       \n",
       "table_id         1-10015132-16                                                                                                                                                                                                                                                                                                                                                                                                                                                                                                                                                           \n",
       "context          What clu was in toronto 1995-96                                                                                                                                                                                                                                                                                                                                                                                                                                                                                                                                         \n",
       "sql              {'sel': 5, 'conds': [[4, 0, '1995-96']], 'agg': 0}                                                                                                                                                                                                                                                                                                                                                                                                                                                                                                                      \n",
       "answer           [arkansas]                                                                                                                                                                                                                                                                                                                                                                                                                                                                                                                                                              \n",
       "sql_query        {'agg_index': 0, 'cond_ops': ['=', '>', '<', 'OP'], 'ordered': True, 'syms': ['SELECT', 'WHERE', 'AND', 'COL', 'TABLE', 'CAPTION', 'PAGE', 'SECTION', 'OP', 'COND', 'QUESTION', 'AGG', 'AGGOPS', 'CONDOPS']}                                                                                                                                                                                                                                                                                                                                                            \n",
       "caption          R                                                                                                                                                                                                                                                                                                                                                                                                                                                                                                                                                                       \n",
       "name             table_10015132_16                                                                                                                                                                                                                                                                                                                                                                                                                                                                                                                                                       \n",
       "page_id          NaN                                                                                                                                                                                                                                                                                                                                                                                                                                                                                                                                                                     \n",
       "title            Toronto Raptors all-time roster                                                                                                                                                                                                                                                                                                                                                                                                                                                                                                                                         \n",
       "rows             [[Aleksandar Radojević, 25, Serbia, Center, 1999-2000, Barton CC (KS)], [Shawn Respert, 31, United States, Guard, 1997-98, Michigan State], [Quentin Richardson, N/A, United States, Forward, 2013-present, DePaul], [Alvin Robertson, 7, 21, United States, Guard, 1995-96, Arkansas], [Carlos Rogers, 33, 34, United States, Forward-Center, 1995-98, Tennessee State], [Roy Rogers, 9, United States, Forward, 1998, Alabama], [Jalen Rose, 5, United States, Guard-Forward, 2003-06, Michigan], [Terrence Ross, 31, United States, Guard, 2012-present, Washington]]\n",
       "section_title    R                                                                                                                                                                                                                                                                                                                                                                                                                                                                                                                                                                       \n",
       "types            [text, text, text, text, text, text]                                                                                                                                                                                                                                                                                                                                                                                                                                                                                                                                    \n",
       "header           [(Player, text, Aleksandar Radojević), (No., text, 25), (Nationality, text, Serbia), (Position, text, Center), (Years in Toronto, text, 1999-2000), (School/Club Team, text, Barton CC (KS))]                                                                                                                                                                                                                                                                                                                                                                           \n",
       "Name: 1, dtype: object"
      ]
     },
     "execution_count": 10,
     "metadata": {},
     "output_type": "execute_result"
    }
   ],
   "source": [
    "test.iloc[1]"
   ]
  },
  {
   "cell_type": "code",
   "execution_count": null,
   "metadata": {},
   "outputs": [],
   "source": [
    "test.to_json('./data/test_tabert.json')\n",
    "train.to_json('./data/train_tabert.json')\n",
    "dev.to_json('./data/dev_tabert.json')"
   ]
  }
 ],
 "metadata": {
  "kernelspec": {
   "display_name": "tabert",
   "language": "python",
   "name": "tabert"
  },
  "language_info": {
   "codemirror_mode": {
    "name": "ipython",
    "version": 3
   },
   "file_extension": ".py",
   "mimetype": "text/x-python",
   "name": "python",
   "nbconvert_exporter": "python",
   "pygments_lexer": "ipython3",
   "version": "3.6.12"
  }
 },
 "nbformat": 4,
 "nbformat_minor": 4
}
